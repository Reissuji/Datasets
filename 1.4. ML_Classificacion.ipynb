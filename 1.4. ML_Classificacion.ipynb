{
 "cells": [
  {
   "cell_type": "markdown",
   "metadata": {},
   "source": [
    "## Bibliotecas"
   ]
  },
  {
   "cell_type": "code",
   "execution_count": 3,
   "metadata": {},
   "outputs": [],
   "source": [
    "import pandas as pd\n",
    "from sklearn.model_selection import train_test_split\n",
    "from sklearn.preprocessing import LabelEncoder\n",
    "from sklearn.linear_model import LogisticRegression\n",
    "from sklearn.metrics import accuracy_score\n",
    "import pandas as pd\n",
    "from sklearn.model_selection import train_test_split\n",
    "from sklearn.preprocessing import LabelEncoder, StandardScaler\n",
    "from sklearn.linear_model import LogisticRegression\n",
    "from sklearn.metrics import accuracy_score\n",
    "from sklearn.preprocessing import StandardScaler"
   ]
  },
  {
   "cell_type": "code",
   "execution_count": 4,
   "metadata": {},
   "outputs": [
    {
     "name": "stdout",
     "output_type": "stream",
     "text": [
      "Accuracy: 96.91%\n",
      "['Cactus de jade' 'Aloe vera' 'Cactus de jade' 'Violeta africana'\n",
      " 'Palo de Brasil' 'Lavanda' 'Lavanda' 'Violeta africana' 'Fucsia'\n",
      " 'Costilla de Adán' 'Kalanchoe' 'Violeta africana' 'Lavanda' 'Lavanda'\n",
      " 'Haworthia' 'Costilla de Adán' 'Costilla de Adán' 'Helecho de Boston'\n",
      " 'Lavanda' 'Lavanda' 'Aeonium' 'Aeonium' 'Fittonia' 'Costilla de Adán'\n",
      " 'Lavanda' 'Aloe vera' 'Palo de Brasil' 'Aloe vera' 'Philodendron'\n",
      " 'Helecho de Boston' 'Philodendron' 'Haworthia' 'Cactus de jade' 'Lavanda'\n",
      " 'Violeta africana' 'Costilla de Adán' 'Caléndula' 'Haworthia'\n",
      " 'Helecho de Boston' 'Lavanda' 'Costilla de Adán' 'Violeta africana'\n",
      " 'Aloe vera' 'Caléndula' 'Aeonium' 'Lavanda' 'Cactus de jade' 'Aloe vera'\n",
      " 'Nephthytis' 'Geranio' 'Aloe vera' 'Fucsia' 'Palo de Brasil'\n",
      " 'Helecho de Boston' 'Lavanda' 'Costilla de Adán' 'Palo de Brasil'\n",
      " 'Philodendron' 'Caléndula' 'Costilla de Adán' 'Geranio'\n",
      " 'Costilla de Adán' 'Aloe vera' 'Nephthytis' 'Kalanchoe' 'Aloe vera'\n",
      " 'Geranio' 'Cactus de jade' 'Violeta africana' 'Hiedra inglesa'\n",
      " 'Peperomia' 'Fucsia' 'Aloe vera' 'Nephthytis' 'Peperomia'\n",
      " 'Helecho de Boston' 'Violeta africana' 'Violeta africana'\n",
      " 'Hiedra inglesa' 'Helecho de Boston' 'Aeonium' 'Aeonium' 'Lavanda'\n",
      " 'Palo de Brasil' 'Costilla de Adán' 'Haworthia' 'Helecho de Boston'\n",
      " 'Geranio' 'Costilla de Adán' 'Caléndula' 'Fucsia' 'Fittonia' 'Geranio'\n",
      " 'Violeta africana' 'Aloe vera' 'Aloe vera' 'Cactus de jade' 'Aloe vera'\n",
      " 'Palo de Brasil' 'Aloe vera' 'Cactus de Navidad' 'Cactus de jade'\n",
      " 'Aloe vera' 'Lavanda' 'Aloe vera' 'Haworthia' 'Fucsia'\n",
      " 'Helecho de Boston' 'Aloe vera' 'Haworthia' 'Aloe vera' 'Peperomia'\n",
      " 'Helecho de Boston' 'Costilla de Adán' 'Hiedra inglesa' 'Hiedra inglesa'\n",
      " 'Haworthia' 'Lavanda' 'Cactus de jade' 'Cactus de jade' 'Lavanda'\n",
      " 'Geranio' 'Costilla de Adán' 'Fucsia' 'Fucsia' 'Lavanda'\n",
      " 'Costilla de Adán' 'Fittonia' 'Cactus de Navidad' 'Aloe vera'\n",
      " 'Nephthytis' 'Helecho de Boston' 'Fucsia' 'Violeta africana'\n",
      " 'Helecho de Boston' 'Cactus de jade' 'Cactus de Navidad' 'Aeonium'\n",
      " 'Aloe vera' 'Palo de Brasil' 'Haworthia' 'Cactus de jade' 'Fittonia'\n",
      " 'Palo de Brasil' 'Hiedra inglesa' 'Helecho de Boston' 'Helecho de Boston'\n",
      " 'Costilla de Adán' 'Geranio' 'Palo de Brasil' 'Costilla de Adán'\n",
      " 'Aloe vera' 'Aloe vera' 'Hiedra inglesa' 'Aloe vera' 'Costilla de Adán'\n",
      " 'Geranio' 'Aloe vera' 'Peperomia' 'Lavanda' 'Fucsia' 'Aloe vera'\n",
      " 'Kalanchoe' 'Aeonium' 'Lavanda' 'Costilla de Adán' 'Cactus de Navidad'\n",
      " 'Cactus de Navidad' 'Violeta africana' 'Hiedra inglesa' 'Fucsia'\n",
      " 'Aloe vera' 'Haworthia' 'Fucsia' 'Philodendron' 'Fittonia'\n",
      " 'Costilla de Adán' 'Lavanda' 'Nephthytis' 'Kalanchoe' 'Cactus de jade'\n",
      " 'Hiedra inglesa' 'Kalanchoe' 'Fucsia' 'Fucsia' 'Violeta africana'\n",
      " 'Aloe vera' 'Geranio' 'Lavanda' 'Caléndula' 'Cactus de Navidad' 'Lavanda'\n",
      " 'Caléndula' 'Lavanda' 'Aeonium' 'Geranio' 'Kalanchoe' 'Aloe vera'\n",
      " 'Haworthia' 'Fittonia' 'Haworthia' 'Violeta africana' 'Costilla de Adán'\n",
      " 'Philodendron' 'Palo de Brasil' 'Violeta africana' 'Costilla de Adán'\n",
      " 'Helecho de Boston' 'Cactus de Navidad' 'Cactus de Navidad'\n",
      " 'Helecho de Boston' 'Cactus de jade' 'Haworthia' 'Cactus de jade'\n",
      " 'Haworthia' 'Kalanchoe' 'Cactus de jade' 'Palo de Brasil' 'Geranio'\n",
      " 'Peperomia' 'Philodendron' 'Helecho de Boston' 'Cactus de jade' 'Fucsia'\n",
      " 'Geranio' 'Caléndula' 'Palo de Brasil' 'Lavanda' 'Helecho de Boston'\n",
      " 'Geranio' 'Cactus de jade' 'Peperomia' 'Peperomia' 'Lavanda' 'Fucsia'\n",
      " 'Kalanchoe' 'Fucsia' 'Cactus de Navidad' 'Geranio' 'Palo de Brasil'\n",
      " 'Hiedra inglesa' 'Aloe vera' 'Geranio' 'Aloe vera' 'Caléndula'\n",
      " 'Aloe vera' 'Cactus de Navidad' 'Fucsia' 'Fucsia' 'Lavanda'\n",
      " 'Helecho de Boston' 'Haworthia' 'Helecho de Boston' 'Aloe vera'\n",
      " 'Aloe vera' 'Lavanda' 'Peperomia' 'Aloe vera' 'Costilla de Adán']\n"
     ]
    },
    {
     "name": "stderr",
     "output_type": "stream",
     "text": [
      "c:\\Users\\Ani\\AppData\\Local\\Programs\\Python\\Python312\\Lib\\site-packages\\sklearn\\linear_model\\_logistic.py:469: ConvergenceWarning: lbfgs failed to converge (status=1):\n",
      "STOP: TOTAL NO. of ITERATIONS REACHED LIMIT.\n",
      "\n",
      "Increase the number of iterations (max_iter) or scale the data as shown in:\n",
      "    https://scikit-learn.org/stable/modules/preprocessing.html\n",
      "Please also refer to the documentation for alternative solver options:\n",
      "    https://scikit-learn.org/stable/modules/linear_model.html#logistic-regression\n",
      "  n_iter_i = _check_optimize_result(\n"
     ]
    }
   ],
   "source": [
    "df_classi = pd.read_csv('C:/Users/Ani/Desktop/BVNNY/Master/TFM/Datasets/df_final.csv', sep=',')\n",
    "\n",
    "\n",
    "# Dividir los datos en características (X) y etiquetas (y)\n",
    "X = df_classi.drop('Especie_planta', axis=1)\n",
    "y = df_classi['Especie_planta']\n",
    "\n",
    "# Codificar las etiquetas\n",
    "label_encoder = LabelEncoder()\n",
    "y_encoded = label_encoder.fit_transform(y)\n",
    "\n",
    "# Dividir los datos en conjuntos de entrenamiento y prueba\n",
    "X_train, X_test, y_train, y_test = train_test_split(X, y_encoded, test_size=0.2, random_state=42)\n",
    "\n",
    "# Crear el modelo de clasificación\n",
    "modelo = LogisticRegression()\n",
    "modelo.fit(X_train, y_train)\n",
    "\n",
    "# Hacer predicciones\n",
    "y_pred = modelo.predict(X_test)\n",
    "\n",
    "# Evaluar el modelo\n",
    "accuracy = accuracy_score(y_test, y_pred)\n",
    "print(f'Accuracy: {accuracy * 100:.2f}%')\n",
    "\n",
    "# Si deseas ver las predicciones con las etiquetas originales\n",
    "y_pred_labels = label_encoder.inverse_transform(y_pred)\n",
    "print(y_pred_labels)\n"
   ]
  },
  {
   "cell_type": "code",
   "execution_count": 5,
   "metadata": {},
   "outputs": [
    {
     "name": "stdout",
     "output_type": "stream",
     "text": [
      "Accuracy: 96.53%\n",
      "['Cactus de jade' 'Aloe vera' 'Cactus de jade' 'Violeta africana'\n",
      " 'Palo de Brasil' 'Lavanda' 'Lavanda' 'Violeta africana' 'Fucsia'\n",
      " 'Costilla de Adán' 'Kalanchoe' 'Violeta africana' 'Lavanda' 'Lavanda'\n",
      " 'Haworthia' 'Costilla de Adán' 'Costilla de Adán' 'Helecho de Boston'\n",
      " 'Lavanda' 'Lavanda' 'Aeonium' 'Aeonium' 'Fittonia' 'Costilla de Adán'\n",
      " 'Lavanda' 'Aloe vera' 'Palo de Brasil' 'Aloe vera' 'Philodendron'\n",
      " 'Helecho de Boston' 'Philodendron' 'Haworthia' 'Cactus de jade' 'Lavanda'\n",
      " 'Violeta africana' 'Costilla de Adán' 'Caléndula' 'Haworthia'\n",
      " 'Helecho de Boston' 'Lavanda' 'Costilla de Adán' 'Violeta africana'\n",
      " 'Aloe vera' 'Caléndula' 'Aeonium' 'Lavanda' 'Cactus de jade' 'Aloe vera'\n",
      " 'Nephthytis' 'Geranio' 'Aloe vera' 'Fucsia' 'Palo de Brasil'\n",
      " 'Helecho de Boston' 'Lavanda' 'Costilla de Adán' 'Palo de Brasil'\n",
      " 'Philodendron' 'Caléndula' 'Costilla de Adán' 'Geranio'\n",
      " 'Costilla de Adán' 'Aloe vera' 'Nephthytis' 'Kalanchoe' 'Aloe vera'\n",
      " 'Geranio' 'Cactus de jade' 'Violeta africana' 'Hiedra inglesa'\n",
      " 'Peperomia' 'Fucsia' 'Aloe vera' 'Nephthytis' 'Peperomia'\n",
      " 'Helecho de Boston' 'Violeta africana' 'Violeta africana'\n",
      " 'Hiedra inglesa' 'Helecho de Boston' 'Aeonium' 'Aeonium' 'Lavanda'\n",
      " 'Palo de Brasil' 'Costilla de Adán' 'Haworthia' 'Helecho de Boston'\n",
      " 'Geranio' 'Costilla de Adán' 'Caléndula' 'Fucsia' 'Fittonia' 'Geranio'\n",
      " 'Violeta africana' 'Aloe vera' 'Aloe vera' 'Cactus de jade' 'Aloe vera'\n",
      " 'Palo de Brasil' 'Aloe vera' 'Cactus de Navidad' 'Cactus de jade'\n",
      " 'Aloe vera' 'Lavanda' 'Aloe vera' 'Haworthia' 'Fucsia'\n",
      " 'Helecho de Boston' 'Aloe vera' 'Haworthia' 'Aloe vera' 'Peperomia'\n",
      " 'Helecho de Boston' 'Costilla de Adán' 'Hiedra inglesa' 'Hiedra inglesa'\n",
      " 'Haworthia' 'Lavanda' 'Cactus de jade' 'Cactus de jade' 'Lavanda'\n",
      " 'Geranio' 'Costilla de Adán' 'Fucsia' 'Fucsia' 'Lavanda'\n",
      " 'Costilla de Adán' 'Fittonia' 'Cactus de Navidad' 'Aloe vera'\n",
      " 'Nephthytis' 'Helecho de Boston' 'Fucsia' 'Violeta africana'\n",
      " 'Helecho de Boston' 'Cactus de jade' 'Cactus de Navidad' 'Aeonium'\n",
      " 'Aloe vera' 'Palo de Brasil' 'Haworthia' 'Cactus de jade' 'Fittonia'\n",
      " 'Palo de Brasil' 'Hiedra inglesa' 'Helecho de Boston' 'Helecho de Boston'\n",
      " 'Costilla de Adán' 'Geranio' 'Palo de Brasil' 'Costilla de Adán'\n",
      " 'Aloe vera' 'Aloe vera' 'Hiedra inglesa' 'Aloe vera' 'Costilla de Adán'\n",
      " 'Geranio' 'Aloe vera' 'Peperomia' 'Lavanda' 'Fucsia' 'Aloe vera'\n",
      " 'Kalanchoe' 'Aeonium' 'Lavanda' 'Costilla de Adán' 'Cactus de Navidad'\n",
      " 'Cactus de Navidad' 'Violeta africana' 'Hiedra inglesa' 'Fucsia'\n",
      " 'Aloe vera' 'Haworthia' 'Fucsia' 'Philodendron' 'Fittonia'\n",
      " 'Costilla de Adán' 'Lavanda' 'Nephthytis' 'Kalanchoe' 'Cactus de jade'\n",
      " 'Hiedra inglesa' 'Kalanchoe' 'Fucsia' 'Fucsia' 'Violeta africana'\n",
      " 'Aloe vera' 'Geranio' 'Lavanda' 'Caléndula' 'Cactus de Navidad' 'Lavanda'\n",
      " 'Caléndula' 'Lavanda' 'Aeonium' 'Geranio' 'Kalanchoe' 'Aloe vera'\n",
      " 'Haworthia' 'Fittonia' 'Haworthia' 'Violeta africana' 'Costilla de Adán'\n",
      " 'Philodendron' 'Palo de Brasil' 'Violeta africana' 'Costilla de Adán'\n",
      " 'Helecho de Boston' 'Cactus de Navidad' 'Cactus de Navidad'\n",
      " 'Helecho de Boston' 'Cactus de jade' 'Haworthia' 'Cactus de jade'\n",
      " 'Haworthia' 'Kalanchoe' 'Cactus de jade' 'Palo de Brasil' 'Geranio'\n",
      " 'Peperomia' 'Philodendron' 'Helecho de Boston' 'Cactus de jade' 'Fucsia'\n",
      " 'Geranio' 'Caléndula' 'Palo de Brasil' 'Lavanda' 'Helecho de Boston'\n",
      " 'Geranio' 'Cactus de jade' 'Peperomia' 'Peperomia' 'Lavanda' 'Fucsia'\n",
      " 'Kalanchoe' 'Fucsia' 'Cactus de Navidad' 'Geranio' 'Palo de Brasil'\n",
      " 'Hiedra inglesa' 'Aloe vera' 'Geranio' 'Aloe vera' 'Caléndula'\n",
      " 'Aloe vera' 'Cactus de Navidad' 'Fucsia' 'Hosta' 'Lavanda'\n",
      " 'Helecho de Boston' 'Haworthia' 'Helecho de Boston' 'Aloe vera'\n",
      " 'Aloe vera' 'Lavanda' 'Peperomia' 'Aloe vera' 'Costilla de Adán']\n"
     ]
    }
   ],
   "source": [
    "X = df_classi.drop('Especie_planta', axis=1)  # Reemplaza 'Especie_planta' con el nombre de la columna correspondiente\n",
    "y = df_classi['Especie_planta']\n",
    "\n",
    "# Codificar las etiquetas\n",
    "label_encoder = LabelEncoder()\n",
    "y_encoded = label_encoder.fit_transform(y)\n",
    "\n",
    "# Escalar los datos\n",
    "scaler = StandardScaler()\n",
    "X_scaled = scaler.fit_transform(X)\n",
    "\n",
    "# Dividir los datos en conjuntos de entrenamiento y prueba\n",
    "X_train, X_test, y_train, y_test = train_test_split(X_scaled, y_encoded, test_size=0.2, random_state=42)\n",
    "\n",
    "# Crear el modelo de clasificación con más iteraciones\n",
    "modelo = LogisticRegression(max_iter=1000)\n",
    "modelo.fit(X_train, y_train)\n",
    "\n",
    "# Hacer predicciones\n",
    "y_pred = modelo.predict(X_test)\n",
    "\n",
    "# Evaluar el modelo\n",
    "accuracy = accuracy_score(y_test, y_pred)\n",
    "print(f'Accuracy: {accuracy * 100:.2f}%')\n",
    "\n",
    "# Si deseas ver las predicciones con las etiquetas originales\n",
    "y_pred_labels = label_encoder.inverse_transform(y_pred)\n",
    "print(y_pred_labels)"
   ]
  },
  {
   "cell_type": "code",
   "execution_count": 6,
   "metadata": {},
   "outputs": [
    {
     "name": "stdout",
     "output_type": "stream",
     "text": [
      "Accuracy: 96.53%\n",
      "['Cactus de jade' 'Aloe vera' 'Cactus de jade' 'Violeta africana'\n",
      " 'Palo de Brasil' 'Lavanda' 'Lavanda' 'Violeta africana' 'Fucsia'\n",
      " 'Costilla de Adán' 'Kalanchoe' 'Violeta africana' 'Lavanda' 'Lavanda'\n",
      " 'Haworthia' 'Costilla de Adán' 'Costilla de Adán' 'Helecho de Boston'\n",
      " 'Lavanda' 'Lavanda' 'Aeonium' 'Aeonium' 'Fittonia' 'Costilla de Adán'\n",
      " 'Lavanda' 'Aloe vera' 'Palo de Brasil' 'Aloe vera' 'Philodendron'\n",
      " 'Helecho de Boston' 'Philodendron' 'Haworthia' 'Cactus de jade' 'Lavanda'\n",
      " 'Violeta africana' 'Costilla de Adán' 'Caléndula' 'Haworthia'\n",
      " 'Helecho de Boston' 'Lavanda' 'Costilla de Adán' 'Violeta africana'\n",
      " 'Aloe vera' 'Caléndula' 'Aeonium' 'Lavanda' 'Cactus de jade' 'Aloe vera'\n",
      " 'Nephthytis' 'Geranio' 'Aloe vera' 'Fucsia' 'Palo de Brasil'\n",
      " 'Helecho de Boston' 'Lavanda' 'Costilla de Adán' 'Palo de Brasil'\n",
      " 'Philodendron' 'Caléndula' 'Costilla de Adán' 'Geranio'\n",
      " 'Costilla de Adán' 'Aloe vera' 'Nephthytis' 'Kalanchoe' 'Aloe vera'\n",
      " 'Geranio' 'Cactus de jade' 'Violeta africana' 'Hiedra inglesa'\n",
      " 'Peperomia' 'Fucsia' 'Aloe vera' 'Nephthytis' 'Peperomia'\n",
      " 'Helecho de Boston' 'Violeta africana' 'Violeta africana'\n",
      " 'Hiedra inglesa' 'Helecho de Boston' 'Aeonium' 'Aeonium' 'Lavanda'\n",
      " 'Palo de Brasil' 'Costilla de Adán' 'Haworthia' 'Helecho de Boston'\n",
      " 'Geranio' 'Costilla de Adán' 'Caléndula' 'Fucsia' 'Fittonia' 'Geranio'\n",
      " 'Violeta africana' 'Aloe vera' 'Aloe vera' 'Cactus de jade' 'Aloe vera'\n",
      " 'Palo de Brasil' 'Aloe vera' 'Cactus de Navidad' 'Cactus de jade'\n",
      " 'Aloe vera' 'Lavanda' 'Aloe vera' 'Haworthia' 'Fucsia'\n",
      " 'Helecho de Boston' 'Aloe vera' 'Haworthia' 'Aloe vera' 'Peperomia'\n",
      " 'Helecho de Boston' 'Costilla de Adán' 'Hiedra inglesa' 'Hiedra inglesa'\n",
      " 'Haworthia' 'Lavanda' 'Cactus de jade' 'Cactus de jade' 'Lavanda'\n",
      " 'Geranio' 'Costilla de Adán' 'Fucsia' 'Fucsia' 'Lavanda'\n",
      " 'Costilla de Adán' 'Fittonia' 'Cactus de Navidad' 'Aloe vera'\n",
      " 'Nephthytis' 'Helecho de Boston' 'Fucsia' 'Violeta africana'\n",
      " 'Helecho de Boston' 'Cactus de jade' 'Cactus de Navidad' 'Aeonium'\n",
      " 'Aloe vera' 'Palo de Brasil' 'Haworthia' 'Cactus de jade' 'Fittonia'\n",
      " 'Palo de Brasil' 'Hiedra inglesa' 'Helecho de Boston' 'Helecho de Boston'\n",
      " 'Costilla de Adán' 'Geranio' 'Palo de Brasil' 'Costilla de Adán'\n",
      " 'Aloe vera' 'Aloe vera' 'Hiedra inglesa' 'Aloe vera' 'Costilla de Adán'\n",
      " 'Geranio' 'Aloe vera' 'Peperomia' 'Lavanda' 'Fucsia' 'Aloe vera'\n",
      " 'Kalanchoe' 'Aeonium' 'Lavanda' 'Costilla de Adán' 'Cactus de Navidad'\n",
      " 'Cactus de Navidad' 'Violeta africana' 'Hiedra inglesa' 'Fucsia'\n",
      " 'Aloe vera' 'Haworthia' 'Fucsia' 'Philodendron' 'Fittonia'\n",
      " 'Costilla de Adán' 'Lavanda' 'Nephthytis' 'Kalanchoe' 'Cactus de jade'\n",
      " 'Hiedra inglesa' 'Kalanchoe' 'Fucsia' 'Fucsia' 'Violeta africana'\n",
      " 'Aloe vera' 'Geranio' 'Lavanda' 'Caléndula' 'Cactus de Navidad' 'Lavanda'\n",
      " 'Caléndula' 'Lavanda' 'Aeonium' 'Geranio' 'Kalanchoe' 'Aloe vera'\n",
      " 'Haworthia' 'Fittonia' 'Haworthia' 'Violeta africana' 'Costilla de Adán'\n",
      " 'Philodendron' 'Palo de Brasil' 'Violeta africana' 'Costilla de Adán'\n",
      " 'Helecho de Boston' 'Cactus de Navidad' 'Cactus de Navidad'\n",
      " 'Helecho de Boston' 'Cactus de jade' 'Haworthia' 'Cactus de jade'\n",
      " 'Haworthia' 'Kalanchoe' 'Cactus de jade' 'Palo de Brasil' 'Geranio'\n",
      " 'Peperomia' 'Philodendron' 'Helecho de Boston' 'Cactus de jade' 'Fucsia'\n",
      " 'Geranio' 'Caléndula' 'Palo de Brasil' 'Lavanda' 'Helecho de Boston'\n",
      " 'Geranio' 'Cactus de jade' 'Peperomia' 'Peperomia' 'Lavanda' 'Fucsia'\n",
      " 'Kalanchoe' 'Fucsia' 'Cactus de Navidad' 'Geranio' 'Palo de Brasil'\n",
      " 'Hiedra inglesa' 'Aloe vera' 'Geranio' 'Aloe vera' 'Caléndula'\n",
      " 'Aloe vera' 'Cactus de Navidad' 'Fucsia' 'Hosta' 'Lavanda'\n",
      " 'Helecho de Boston' 'Haworthia' 'Helecho de Boston' 'Aloe vera'\n",
      " 'Aloe vera' 'Lavanda' 'Peperomia' 'Aloe vera' 'Costilla de Adán']\n"
     ]
    }
   ],
   "source": [
    "X = df_classi.drop('Especie_planta', axis=1)  # Reemplaza 'Especie_planta' con el nombre de la columna correspondiente\n",
    "y = df_classi['Especie_planta']\n",
    "\n",
    "# Codificar las etiquetas\n",
    "label_encoder = LabelEncoder()\n",
    "y_encoded = label_encoder.fit_transform(y)\n",
    "\n",
    "# Escalar los datos\n",
    "scaler = StandardScaler()\n",
    "X_scaled = scaler.fit_transform(X)\n",
    "\n",
    "# Dividir los datos en conjuntos de entrenamiento y prueba\n",
    "X_train, X_test, y_train, y_test = train_test_split(X_scaled, y_encoded, test_size=0.2, random_state=42)\n",
    "\n",
    "# Crear el modelo de clasificación con un solver diferente y más iteraciones\n",
    "modelo = LogisticRegression(max_iter=2000, solver='saga')\n",
    "modelo.fit(X_train, y_train)\n",
    "\n",
    "# Hacer predicciones\n",
    "y_pred = modelo.predict(X_test)\n",
    "\n",
    "# Evaluar el modelo\n",
    "accuracy = accuracy_score(y_test, y_pred)\n",
    "print(f'Accuracy: {accuracy * 100:.2f}%')\n",
    "\n",
    "# Si deseas ver las predicciones con las etiquetas originales\n",
    "y_pred_labels = label_encoder.inverse_transform(y_pred)\n",
    "print(y_pred_labels)"
   ]
  },
  {
   "cell_type": "code",
   "execution_count": 7,
   "metadata": {},
   "outputs": [],
   "source": [
    "predicciones_df = pd.DataFrame(y_pred_labels, columns=['Prediccion'])\n",
    "\n",
    "# Guardar en un archivo CSV\n",
    "predicciones_df.to_csv('predicciones.csv', index=False)"
   ]
  },
  {
   "cell_type": "code",
   "execution_count": 8,
   "metadata": {},
   "outputs": [
    {
     "name": "stdout",
     "output_type": "stream",
     "text": [
      "['Cactus de jade' 'Aloe vera' 'Cactus de jade' 'Violeta africana'\n",
      " 'Palo de Brasil' 'Lavanda' 'Lavanda' 'Violeta africana' 'Fucsia'\n",
      " 'Costilla de Adán']\n",
      "['Lavanda' 'Helecho de Boston' 'Haworthia' 'Helecho de Boston' 'Aloe vera'\n",
      " 'Aloe vera' 'Lavanda' 'Peperomia' 'Aloe vera' 'Costilla de Adán']\n"
     ]
    }
   ],
   "source": [
    "print(y_pred_labels[:10])  # Primeras 10 predicciones\n",
    "print(y_pred_labels[-10:])  # Últimas 10 predicciones"
   ]
  },
  {
   "cell_type": "markdown",
   "metadata": {},
   "source": [
    "## Demo?"
   ]
  },
  {
   "cell_type": "code",
   "execution_count": 9,
   "metadata": {},
   "outputs": [
    {
     "data": {
      "text/plain": [
       "Especie_planta\n",
       "Aloe vera            158\n",
       "Lavanda              120\n",
       "Costilla de Adán     108\n",
       "Geranio               88\n",
       "Violeta africana      83\n",
       "Helecho de Boston     81\n",
       "Cactus de jade        81\n",
       "Palo de Brasil        67\n",
       "Cactus de Navidad     63\n",
       "Haworthia             54\n",
       "Aeonium               50\n",
       "Fucsia                49\n",
       "Peperomia             45\n",
       "Caléndula             45\n",
       "Hiedra inglesa        43\n",
       "Philodendron          40\n",
       "Kalanchoe             39\n",
       "Fittonia              36\n",
       "Nephthytis            29\n",
       "Hosta                 16\n",
       "Name: count, dtype: int64"
      ]
     },
     "execution_count": 9,
     "metadata": {},
     "output_type": "execute_result"
    }
   ],
   "source": [
    "conteo_especies = df_classi['Especie_planta'].value_counts()\n",
    "conteo_especies"
   ]
  },
  {
   "cell_type": "code",
   "execution_count": 10,
   "metadata": {},
   "outputs": [
    {
     "name": "stdout",
     "output_type": "stream",
     "text": [
      "Index(['Especie_planta', 'Toxic_Yes', 'Conocimiento_sobre_plantas_enc',\n",
      "       'Tiempo_de_dedicacion_enc', 'Clima_No_Seco', 'Tonos_Cálidos',\n",
      "       'Tonos_Fríos', 'Tonos_Me es indiferente', 'Vivienda_Adosado',\n",
      "       'Vivienda_Apartamento', 'Vivienda_Chalet', 'Dificultad', 'Ubicación',\n",
      "       'Estatura', 'Frecuencia_Riego', 'Tolera_mediterráneo_seco',\n",
      "       'Adecuado_para_mascotas', 'Sensación'],\n",
      "      dtype='object')\n"
     ]
    }
   ],
   "source": [
    "print(df_classi.columns)"
   ]
  },
  {
   "cell_type": "code",
   "execution_count": 11,
   "metadata": {},
   "outputs": [],
   "source": [
    "#probando Streamlit"
   ]
  },
  {
   "cell_type": "code",
   "execution_count": 12,
   "metadata": {},
   "outputs": [],
   "source": [
    "import pickle\n",
    "\n",
    "# Guardar el modelo, el escalador y el codificador\n",
    "with open('modelo_clasificacion.pkl', 'wb') as model_file:\n",
    "    pickle.dump(modelo, model_file)\n",
    "\n",
    "with open('scaler.pkl', 'wb') as scaler_file:\n",
    "    pickle.dump(scaler, scaler_file)\n",
    "\n",
    "with open('label_encoder.pkl', 'wb') as le_file:\n",
    "    pickle.dump(label_encoder, le_file)\n"
   ]
  },
  {
   "cell_type": "code",
   "execution_count": 13,
   "metadata": {},
   "outputs": [
    {
     "name": "stderr",
     "output_type": "stream",
     "text": [
      "2024-06-12 21:31:55.134 \n",
      "  \u001b[33m\u001b[1mWarning:\u001b[0m to view this Streamlit app on a browser, run it with the following\n",
      "  command:\n",
      "\n",
      "    streamlit run C:\\Users\\Ani\\AppData\\Roaming\\Python\\Python312\\site-packages\\ipykernel_launcher.py [ARGUMENTS]\n",
      "2024-06-12 21:31:55.134 Session state does not function when running a script without `streamlit run`\n",
      "c:\\Users\\Ani\\AppData\\Local\\Programs\\Python\\Python312\\Lib\\site-packages\\sklearn\\base.py:493: UserWarning: X does not have valid feature names, but StandardScaler was fitted with feature names\n",
      "  warnings.warn(\n"
     ]
    },
    {
     "ename": "ValueError",
     "evalue": "X has 4 features, but StandardScaler is expecting 17 features as input.",
     "output_type": "error",
     "traceback": [
      "\u001b[1;31m---------------------------------------------------------------------------\u001b[0m",
      "\u001b[1;31mValueError\u001b[0m                                Traceback (most recent call last)",
      "Cell \u001b[1;32mIn[13], line 26\u001b[0m\n\u001b[0;32m     23\u001b[0m     features\u001b[38;5;241m.\u001b[39mappend(feature)\n\u001b[0;32m     25\u001b[0m \u001b[38;5;66;03m# Preprocesar las características\u001b[39;00m\n\u001b[1;32m---> 26\u001b[0m features_scaled \u001b[38;5;241m=\u001b[39m \u001b[43mscaler\u001b[49m\u001b[38;5;241;43m.\u001b[39;49m\u001b[43mtransform\u001b[49m\u001b[43m(\u001b[49m\u001b[43m[\u001b[49m\u001b[43mfeatures\u001b[49m\u001b[43m]\u001b[49m\u001b[43m)\u001b[49m\n\u001b[0;32m     28\u001b[0m \u001b[38;5;66;03m# Hacer la predicción\u001b[39;00m\n\u001b[0;32m     29\u001b[0m \u001b[38;5;28;01mif\u001b[39;00m st\u001b[38;5;241m.\u001b[39mbutton(\u001b[38;5;124m'\u001b[39m\u001b[38;5;124mPredecir\u001b[39m\u001b[38;5;124m'\u001b[39m):\n",
      "File \u001b[1;32mc:\\Users\\Ani\\AppData\\Local\\Programs\\Python\\Python312\\Lib\\site-packages\\sklearn\\utils\\_set_output.py:313\u001b[0m, in \u001b[0;36m_wrap_method_output.<locals>.wrapped\u001b[1;34m(self, X, *args, **kwargs)\u001b[0m\n\u001b[0;32m    311\u001b[0m \u001b[38;5;129m@wraps\u001b[39m(f)\n\u001b[0;32m    312\u001b[0m \u001b[38;5;28;01mdef\u001b[39;00m \u001b[38;5;21mwrapped\u001b[39m(\u001b[38;5;28mself\u001b[39m, X, \u001b[38;5;241m*\u001b[39margs, \u001b[38;5;241m*\u001b[39m\u001b[38;5;241m*\u001b[39mkwargs):\n\u001b[1;32m--> 313\u001b[0m     data_to_wrap \u001b[38;5;241m=\u001b[39m \u001b[43mf\u001b[49m\u001b[43m(\u001b[49m\u001b[38;5;28;43mself\u001b[39;49m\u001b[43m,\u001b[49m\u001b[43m \u001b[49m\u001b[43mX\u001b[49m\u001b[43m,\u001b[49m\u001b[43m \u001b[49m\u001b[38;5;241;43m*\u001b[39;49m\u001b[43margs\u001b[49m\u001b[43m,\u001b[49m\u001b[43m \u001b[49m\u001b[38;5;241;43m*\u001b[39;49m\u001b[38;5;241;43m*\u001b[39;49m\u001b[43mkwargs\u001b[49m\u001b[43m)\u001b[49m\n\u001b[0;32m    314\u001b[0m     \u001b[38;5;28;01mif\u001b[39;00m \u001b[38;5;28misinstance\u001b[39m(data_to_wrap, \u001b[38;5;28mtuple\u001b[39m):\n\u001b[0;32m    315\u001b[0m         \u001b[38;5;66;03m# only wrap the first output for cross decomposition\u001b[39;00m\n\u001b[0;32m    316\u001b[0m         return_tuple \u001b[38;5;241m=\u001b[39m (\n\u001b[0;32m    317\u001b[0m             _wrap_data_with_container(method, data_to_wrap[\u001b[38;5;241m0\u001b[39m], X, \u001b[38;5;28mself\u001b[39m),\n\u001b[0;32m    318\u001b[0m             \u001b[38;5;241m*\u001b[39mdata_to_wrap[\u001b[38;5;241m1\u001b[39m:],\n\u001b[0;32m    319\u001b[0m         )\n",
      "File \u001b[1;32mc:\\Users\\Ani\\AppData\\Local\\Programs\\Python\\Python312\\Lib\\site-packages\\sklearn\\preprocessing\\_data.py:1043\u001b[0m, in \u001b[0;36mStandardScaler.transform\u001b[1;34m(self, X, copy)\u001b[0m\n\u001b[0;32m   1040\u001b[0m check_is_fitted(\u001b[38;5;28mself\u001b[39m)\n\u001b[0;32m   1042\u001b[0m copy \u001b[38;5;241m=\u001b[39m copy \u001b[38;5;28;01mif\u001b[39;00m copy \u001b[38;5;129;01mis\u001b[39;00m \u001b[38;5;129;01mnot\u001b[39;00m \u001b[38;5;28;01mNone\u001b[39;00m \u001b[38;5;28;01melse\u001b[39;00m \u001b[38;5;28mself\u001b[39m\u001b[38;5;241m.\u001b[39mcopy\n\u001b[1;32m-> 1043\u001b[0m X \u001b[38;5;241m=\u001b[39m \u001b[38;5;28;43mself\u001b[39;49m\u001b[38;5;241;43m.\u001b[39;49m\u001b[43m_validate_data\u001b[49m\u001b[43m(\u001b[49m\n\u001b[0;32m   1044\u001b[0m \u001b[43m    \u001b[49m\u001b[43mX\u001b[49m\u001b[43m,\u001b[49m\n\u001b[0;32m   1045\u001b[0m \u001b[43m    \u001b[49m\u001b[43mreset\u001b[49m\u001b[38;5;241;43m=\u001b[39;49m\u001b[38;5;28;43;01mFalse\u001b[39;49;00m\u001b[43m,\u001b[49m\n\u001b[0;32m   1046\u001b[0m \u001b[43m    \u001b[49m\u001b[43maccept_sparse\u001b[49m\u001b[38;5;241;43m=\u001b[39;49m\u001b[38;5;124;43m\"\u001b[39;49m\u001b[38;5;124;43mcsr\u001b[39;49m\u001b[38;5;124;43m\"\u001b[39;49m\u001b[43m,\u001b[49m\n\u001b[0;32m   1047\u001b[0m \u001b[43m    \u001b[49m\u001b[43mcopy\u001b[49m\u001b[38;5;241;43m=\u001b[39;49m\u001b[43mcopy\u001b[49m\u001b[43m,\u001b[49m\n\u001b[0;32m   1048\u001b[0m \u001b[43m    \u001b[49m\u001b[43mdtype\u001b[49m\u001b[38;5;241;43m=\u001b[39;49m\u001b[43mFLOAT_DTYPES\u001b[49m\u001b[43m,\u001b[49m\n\u001b[0;32m   1049\u001b[0m \u001b[43m    \u001b[49m\u001b[43mforce_all_finite\u001b[49m\u001b[38;5;241;43m=\u001b[39;49m\u001b[38;5;124;43m\"\u001b[39;49m\u001b[38;5;124;43mallow-nan\u001b[39;49m\u001b[38;5;124;43m\"\u001b[39;49m\u001b[43m,\u001b[49m\n\u001b[0;32m   1050\u001b[0m \u001b[43m\u001b[49m\u001b[43m)\u001b[49m\n\u001b[0;32m   1052\u001b[0m \u001b[38;5;28;01mif\u001b[39;00m sparse\u001b[38;5;241m.\u001b[39missparse(X):\n\u001b[0;32m   1053\u001b[0m     \u001b[38;5;28;01mif\u001b[39;00m \u001b[38;5;28mself\u001b[39m\u001b[38;5;241m.\u001b[39mwith_mean:\n",
      "File \u001b[1;32mc:\\Users\\Ani\\AppData\\Local\\Programs\\Python\\Python312\\Lib\\site-packages\\sklearn\\base.py:654\u001b[0m, in \u001b[0;36mBaseEstimator._validate_data\u001b[1;34m(self, X, y, reset, validate_separately, cast_to_ndarray, **check_params)\u001b[0m\n\u001b[0;32m    651\u001b[0m     out \u001b[38;5;241m=\u001b[39m X, y\n\u001b[0;32m    653\u001b[0m \u001b[38;5;28;01mif\u001b[39;00m \u001b[38;5;129;01mnot\u001b[39;00m no_val_X \u001b[38;5;129;01mand\u001b[39;00m check_params\u001b[38;5;241m.\u001b[39mget(\u001b[38;5;124m\"\u001b[39m\u001b[38;5;124mensure_2d\u001b[39m\u001b[38;5;124m\"\u001b[39m, \u001b[38;5;28;01mTrue\u001b[39;00m):\n\u001b[1;32m--> 654\u001b[0m     \u001b[38;5;28;43mself\u001b[39;49m\u001b[38;5;241;43m.\u001b[39;49m\u001b[43m_check_n_features\u001b[49m\u001b[43m(\u001b[49m\u001b[43mX\u001b[49m\u001b[43m,\u001b[49m\u001b[43m \u001b[49m\u001b[43mreset\u001b[49m\u001b[38;5;241;43m=\u001b[39;49m\u001b[43mreset\u001b[49m\u001b[43m)\u001b[49m\n\u001b[0;32m    656\u001b[0m \u001b[38;5;28;01mreturn\u001b[39;00m out\n",
      "File \u001b[1;32mc:\\Users\\Ani\\AppData\\Local\\Programs\\Python\\Python312\\Lib\\site-packages\\sklearn\\base.py:443\u001b[0m, in \u001b[0;36mBaseEstimator._check_n_features\u001b[1;34m(self, X, reset)\u001b[0m\n\u001b[0;32m    440\u001b[0m     \u001b[38;5;28;01mreturn\u001b[39;00m\n\u001b[0;32m    442\u001b[0m \u001b[38;5;28;01mif\u001b[39;00m n_features \u001b[38;5;241m!=\u001b[39m \u001b[38;5;28mself\u001b[39m\u001b[38;5;241m.\u001b[39mn_features_in_:\n\u001b[1;32m--> 443\u001b[0m     \u001b[38;5;28;01mraise\u001b[39;00m \u001b[38;5;167;01mValueError\u001b[39;00m(\n\u001b[0;32m    444\u001b[0m         \u001b[38;5;124mf\u001b[39m\u001b[38;5;124m\"\u001b[39m\u001b[38;5;124mX has \u001b[39m\u001b[38;5;132;01m{\u001b[39;00mn_features\u001b[38;5;132;01m}\u001b[39;00m\u001b[38;5;124m features, but \u001b[39m\u001b[38;5;132;01m{\u001b[39;00m\u001b[38;5;28mself\u001b[39m\u001b[38;5;241m.\u001b[39m\u001b[38;5;18m__class__\u001b[39m\u001b[38;5;241m.\u001b[39m\u001b[38;5;18m__name__\u001b[39m\u001b[38;5;132;01m}\u001b[39;00m\u001b[38;5;124m \u001b[39m\u001b[38;5;124m\"\u001b[39m\n\u001b[0;32m    445\u001b[0m         \u001b[38;5;124mf\u001b[39m\u001b[38;5;124m\"\u001b[39m\u001b[38;5;124mis expecting \u001b[39m\u001b[38;5;132;01m{\u001b[39;00m\u001b[38;5;28mself\u001b[39m\u001b[38;5;241m.\u001b[39mn_features_in_\u001b[38;5;132;01m}\u001b[39;00m\u001b[38;5;124m features as input.\u001b[39m\u001b[38;5;124m\"\u001b[39m\n\u001b[0;32m    446\u001b[0m     )\n",
      "\u001b[1;31mValueError\u001b[0m: X has 4 features, but StandardScaler is expecting 17 features as input."
     ]
    }
   ],
   "source": [
    "import streamlit as st\n",
    "import pickle\n",
    "import numpy as np\n",
    "\n",
    "# Cargar el modelo, el escalador y el codificador\n",
    "with open('modelo_clasificacion.pkl', 'rb') as model_file:\n",
    "    modelo = pickle.load(model_file)\n",
    "\n",
    "with open('scaler.pkl', 'rb') as scaler_file:\n",
    "    scaler = pickle.load(scaler_file)\n",
    "\n",
    "with open('label_encoder.pkl', 'rb') as le_file:\n",
    "    label_encoder = pickle.load(le_file)\n",
    "\n",
    "st.title('Demo de Clasificación de Especies de Plantas')\n",
    "\n",
    "# Obtener las características del usuario\n",
    "num_features = 4  # Reemplaza esto con el número de características de tu modelo\n",
    "features = []\n",
    "\n",
    "for i in range(num_features):\n",
    "    feature = st.number_input(f'Ingrese la característica {i+1}')\n",
    "    features.append(feature)\n",
    "\n",
    "# Preprocesar las características\n",
    "features_scaled = scaler.transform([features])\n",
    "\n",
    "# Hacer la predicción\n",
    "if st.button('Predecir'):\n",
    "    prediction_encoded = modelo.predict(features_scaled)\n",
    "    prediction_label = label_encoder.inverse_transform(prediction_encoded)\n",
    "    st.write(f'La predicción de la especie de planta es: {prediction_label[0]}')\n"
   ]
  }
 ],
 "metadata": {
  "kernelspec": {
   "display_name": "Python 3",
   "language": "python",
   "name": "python3"
  },
  "language_info": {
   "codemirror_mode": {
    "name": "ipython",
    "version": 3
   },
   "file_extension": ".py",
   "mimetype": "text/x-python",
   "name": "python",
   "nbconvert_exporter": "python",
   "pygments_lexer": "ipython3",
   "version": "3.12.2"
  }
 },
 "nbformat": 4,
 "nbformat_minor": 2
}
