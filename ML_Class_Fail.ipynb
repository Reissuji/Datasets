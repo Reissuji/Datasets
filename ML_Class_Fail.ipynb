{
 "cells": [
  {
   "cell_type": "markdown",
   "metadata": {},
   "source": [
    "## Bibliotecas"
   ]
  },
  {
   "cell_type": "code",
   "execution_count": 1,
   "metadata": {},
   "outputs": [],
   "source": [
    "import pandas as pd\n",
    "from sklearn.model_selection import train_test_split\n",
    "from sklearn.preprocessing import LabelEncoder\n",
    "from sklearn.linear_model import LogisticRegression\n",
    "from sklearn.metrics import accuracy_score\n",
    "import pandas as pd\n",
    "from sklearn.model_selection import train_test_split\n",
    "from sklearn.preprocessing import LabelEncoder, StandardScaler\n",
    "from sklearn.linear_model import LogisticRegression\n",
    "from sklearn.metrics import accuracy_score\n",
    "from sklearn.preprocessing import StandardScaler"
   ]
  },
  {
   "cell_type": "code",
   "execution_count": 2,
   "metadata": {},
   "outputs": [],
   "source": [
    "df_classi_new = pd.read_csv('C:/Users/Ani/Desktop/BVNNY/Master/TFM/Datasets/df_final.csv', sep=',')"
   ]
  },
  {
   "cell_type": "code",
   "execution_count": 3,
   "metadata": {},
   "outputs": [],
   "source": [
    "# Quitamos lo que no usaremos luego\n",
    "df_classi_new.drop(columns=['Dificultad', 'Ubicación', 'Estatura', 'Frecuencia_Riego', 'Tolera_mediterráneo_seco', 'Adecuado_para_mascotas', 'Sensación'], inplace=True)\n"
   ]
  },
  {
   "cell_type": "code",
   "execution_count": 4,
   "metadata": {},
   "outputs": [
    {
     "name": "stdout",
     "output_type": "stream",
     "text": [
      "Accuracy: 11.97%\n",
      "['Aloe vera' 'Helecho de Boston' 'Lavanda' 'Aloe vera' 'Costilla de Adán'\n",
      " 'Lavanda' 'Aloe vera' 'Aloe vera' 'Lavanda' 'Aloe vera' 'Aloe vera'\n",
      " 'Lavanda' 'Costilla de Adán' 'Aloe vera' 'Lavanda' 'Aloe vera'\n",
      " 'Aloe vera' 'Aloe vera' 'Aloe vera' 'Aloe vera' 'Lavanda' 'Aloe vera'\n",
      " 'Aloe vera' 'Lavanda' 'Costilla de Adán' 'Aloe vera' 'Aloe vera'\n",
      " 'Lavanda' 'Aloe vera' 'Lavanda' 'Aloe vera' 'Aloe vera' 'Aloe vera'\n",
      " 'Aloe vera' 'Aloe vera' 'Cactus de Navidad' 'Aloe vera' 'Aloe vera'\n",
      " 'Cactus de jade' 'Lavanda' 'Aloe vera' 'Lavanda' 'Aloe vera' 'Aloe vera'\n",
      " 'Lavanda' 'Lavanda' 'Aloe vera' 'Aloe vera' 'Aloe vera' 'Lavanda'\n",
      " 'Aloe vera' 'Lavanda' 'Costilla de Adán' 'Aloe vera' 'Aloe vera'\n",
      " 'Aloe vera' 'Aloe vera' 'Aloe vera' 'Lavanda' 'Aloe vera' 'Lavanda'\n",
      " 'Aloe vera' 'Lavanda' 'Aloe vera' 'Lavanda' 'Aloe vera' 'Aloe vera'\n",
      " 'Aloe vera' 'Aloe vera' 'Lavanda' 'Cactus de jade' 'Costilla de Adán'\n",
      " 'Aloe vera' 'Lavanda' 'Aloe vera' 'Lavanda' 'Aloe vera' 'Aloe vera'\n",
      " 'Aloe vera' 'Aloe vera' 'Costilla de Adán' 'Aloe vera' 'Costilla de Adán'\n",
      " 'Aloe vera' 'Aloe vera' 'Lavanda' 'Cactus de jade' 'Lavanda' 'Aloe vera'\n",
      " 'Aloe vera' 'Aloe vera' 'Aloe vera' 'Lavanda' 'Aloe vera' 'Aloe vera'\n",
      " 'Costilla de Adán' 'Aloe vera' 'Aloe vera' 'Costilla de Adán' 'Aloe vera'\n",
      " 'Aloe vera' 'Costilla de Adán' 'Aloe vera' 'Aloe vera' 'Aloe vera'\n",
      " 'Aloe vera' 'Lavanda' 'Aloe vera' 'Aloe vera' 'Aloe vera' 'Aloe vera'\n",
      " 'Aloe vera' 'Aloe vera' 'Aloe vera' 'Lavanda' 'Lavanda' 'Aloe vera'\n",
      " 'Aloe vera' 'Aloe vera' 'Aloe vera' 'Aloe vera' 'Lavanda' 'Lavanda'\n",
      " 'Aloe vera' 'Cactus de jade' 'Lavanda' 'Aloe vera' 'Aloe vera'\n",
      " 'Aloe vera' 'Lavanda' 'Aloe vera' 'Aloe vera' 'Aloe vera' 'Aloe vera'\n",
      " 'Helecho de Boston' 'Lavanda' 'Aeonium' 'Lavanda' 'Aloe vera' 'Lavanda'\n",
      " 'Aloe vera' 'Lavanda' 'Aloe vera' 'Aloe vera' 'Aloe vera'\n",
      " 'Helecho de Boston' 'Aloe vera' 'Aloe vera' 'Aloe vera' 'Aloe vera'\n",
      " 'Aloe vera' 'Lavanda' 'Lavanda' 'Aloe vera' 'Lavanda' 'Aloe vera'\n",
      " 'Lavanda' 'Lavanda' 'Aloe vera' 'Aloe vera' 'Cactus de Navidad'\n",
      " 'Aloe vera' 'Aloe vera' 'Aloe vera' 'Helecho de Boston' 'Aloe vera'\n",
      " 'Aloe vera' 'Aloe vera' 'Lavanda' 'Aloe vera' 'Aloe vera' 'Aloe vera'\n",
      " 'Aloe vera' 'Aloe vera' 'Lavanda' 'Aloe vera' 'Costilla de Adán'\n",
      " 'Aloe vera' 'Aloe vera' 'Aloe vera' 'Aloe vera' 'Aloe vera' 'Aloe vera'\n",
      " 'Aloe vera' 'Aloe vera' 'Aloe vera' 'Lavanda' 'Lavanda' 'Lavanda'\n",
      " 'Aloe vera' 'Costilla de Adán' 'Costilla de Adán' 'Aloe vera' 'Aloe vera'\n",
      " 'Aloe vera' 'Aloe vera' 'Aloe vera' 'Lavanda' 'Aloe vera' 'Lavanda'\n",
      " 'Aloe vera' 'Aloe vera' 'Costilla de Adán' 'Aloe vera' 'Cactus de jade'\n",
      " 'Aloe vera' 'Aloe vera' 'Aloe vera' 'Lavanda' 'Lavanda' 'Lavanda'\n",
      " 'Aloe vera' 'Lavanda' 'Aloe vera' 'Aloe vera' 'Aeonium' 'Aloe vera'\n",
      " 'Aloe vera' 'Lavanda' 'Aloe vera' 'Cactus de jade' 'Aloe vera'\n",
      " 'Costilla de Adán' 'Lavanda' 'Lavanda' 'Aloe vera' 'Aloe vera'\n",
      " 'Aloe vera' 'Lavanda' 'Lavanda' 'Aloe vera' 'Aloe vera' 'Cactus de jade'\n",
      " 'Aloe vera' 'Aloe vera' 'Aloe vera' 'Aloe vera' 'Aloe vera' 'Aloe vera'\n",
      " 'Lavanda' 'Aloe vera' 'Aloe vera' 'Aloe vera' 'Costilla de Adán'\n",
      " 'Aloe vera' 'Aloe vera' 'Aloe vera' 'Aloe vera' 'Aloe vera' 'Aloe vera'\n",
      " 'Lavanda' 'Aloe vera' 'Aloe vera' 'Aloe vera' 'Aloe vera' 'Lavanda'\n",
      " 'Aloe vera' 'Aloe vera' 'Aloe vera']\n"
     ]
    }
   ],
   "source": [
    "X = df_classi_new.drop('Especie_planta', axis=1)  # Reemplaza 'Especie_planta' con el nombre de la columna correspondiente\n",
    "y = df_classi_new['Especie_planta']\n",
    "\n",
    "# Codificar las etiquetas\n",
    "label_encoder = LabelEncoder()\n",
    "y_encoded = label_encoder.fit_transform(y)\n",
    "\n",
    "# Escalar los datos\n",
    "scaler = StandardScaler()\n",
    "X_scaled = scaler.fit_transform(X)\n",
    "\n",
    "# Dividir los datos en conjuntos de entrenamiento y prueba\n",
    "X_train, X_test, y_train, y_test = train_test_split(X_scaled, y_encoded, test_size=0.2, random_state=42)\n",
    "\n",
    "# Crear el modelo de clasificación con más iteraciones\n",
    "modelo = LogisticRegression(max_iter=1000)\n",
    "modelo.fit(X_train, y_train)\n",
    "\n",
    "# Hacer predicciones\n",
    "y_pred = modelo.predict(X_test)\n",
    "\n",
    "# Evaluar el modelo\n",
    "accuracy = accuracy_score(y_test, y_pred)\n",
    "print(f'Accuracy: {accuracy * 100:.2f}%')\n",
    "\n",
    "# Si deseas ver las predicciones con las etiquetas originales\n",
    "y_pred_labels = label_encoder.inverse_transform(y_pred)\n",
    "print(y_pred_labels)"
   ]
  },
  {
   "cell_type": "code",
   "execution_count": null,
   "metadata": {},
   "outputs": [],
   "source": [
    "#otro problema xd\n",
    "#no se puede dropear asi como asi para entrenar al modelo"
   ]
  }
 ],
 "metadata": {
  "kernelspec": {
   "display_name": "Python 3",
   "language": "python",
   "name": "python3"
  },
  "language_info": {
   "codemirror_mode": {
    "name": "ipython",
    "version": 3
   },
   "file_extension": ".py",
   "mimetype": "text/x-python",
   "name": "python",
   "nbconvert_exporter": "python",
   "pygments_lexer": "ipython3",
   "version": "3.12.2"
  }
 },
 "nbformat": 4,
 "nbformat_minor": 2
}
